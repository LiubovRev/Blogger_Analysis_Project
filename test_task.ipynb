{
 "cells": [
  {
   "cell_type": "markdown",
   "id": "d0f5ea1d-5a89-47b0-b2db-6b5cd2691b38",
   "metadata": {},
   "source": [
    "## Test Task"
   ]
  },
  {
   "cell_type": "markdown",
   "id": "0b0171a5-089b-45ff-9377-9b1870652a57",
   "metadata": {},
   "source": [
    "### Задача:\n",
    "- виділити групи блогерів так, щоб ці групи якомога більше відрізнялися між\n",
    "собою.\n",
    "- описати створені групи блогерів (чому групи розділились і як це можна\n",
    "використати)\n",
    "- розробити рекомендаційний алгоритм для замовлення реклами у блогерів з\n",
    "метою просування продукту компанії"
   ]
  },
  {
   "cell_type": "markdown",
   "id": "39844cf3-0514-4ae4-8d9d-c23c82166dbb",
   "metadata": {},
   "source": [
    "### Опис датасетів:\n",
    "\n",
    "1) `autors.csv`\n",
    "\n",
    "- `Author ID` - id автора\n",
    "- `Name` - назва автора\n",
    "- `MEIBI` - метрика ідентифікації впливу блогера\n",
    "- `MEIBIX` - метрика для визначення якості блогу щодо кількості та часу посилань на\n",
    "коментарі\n",
    "- `Average Number Of Words In Posts` - середня кількість слів у постах\n",
    "- `Average Number Of Words In Posts (without stopwords)` - середня кількість слів у постах\n",
    "без шумових слів\n",
    "\n",
    "2) `posts.csv`\n",
    "\n",
    "- `Post ID` - id поста\n",
    "- `Title` - заголовок\n",
    "- `Blogger's Name` - ім’я блорега\n",
    "- `Blogger's ID` - id блогера\n",
    "- `Number of comments` - кількість коментарів\n",
    "- `Content` - текст поста\n",
    "- `Date` - дата створення поста\n",
    "- `Number of retrieved inlinks` - Кількість отриманих посилань\n",
    "- `Number of retrieved comments` - Кількість отриманих коментарів\n",
    "\n",
    "3) `companies.csv`\n",
    "\n",
    "- `Name` - назва компанії\n",
    "- `Year Founded` - рік заснування\n",
    "- `Industry` - тематика компанії\n",
    "- `Size Range` - величина компанії\n",
    "- `Country` - країна реєстрації компанії\n",
    "- `Current Employee Estimate` - сумарна кількість співробітників"
   ]
  },
  {
   "cell_type": "markdown",
   "id": "17aaead1-b92f-4781-9413-5eee91b3d287",
   "metadata": {},
   "source": [
    "### 1. Імпорт бібліотек"
   ]
  },
  {
   "cell_type": "code",
   "execution_count": 1,
   "id": "9afcfefd-3bc7-41c5-9b8f-81268ab35ce8",
   "metadata": {},
   "outputs": [],
   "source": [
    "import pandas as pd\n",
    "import numpy as np\n",
    "import matplotlib.pyplot as plt\n",
    "import seaborn as sns\n",
    "from sklearn.cluster import KMeans\n",
    "from sklearn.preprocessing import StandardScaler\n",
    "from sklearn.decomposition import PCA\n",
    "from sklearn.metrics import silhouette_score\n",
    "from scipy.cluster.hierarchy import dendrogram, linkage\n",
    "import warnings\n",
    "warnings.filterwarnings('ignore')"
   ]
  },
  {
   "cell_type": "markdown",
   "id": "39ce7f9a-7f08-47e0-9dbb-dd3b29cbc746",
   "metadata": {},
   "source": [
    "### 2. Завантаження даних"
   ]
  },
  {
   "cell_type": "code",
   "execution_count": 2,
   "id": "4dafb288-160e-4b25-9ac5-321c700360f9",
   "metadata": {},
   "outputs": [],
   "source": [
    "def load_data():\n",
    "    authors_df = pd.read_csv('autors.csv')\n",
    "    companies_df = pd.read_csv('companies.csv')\n",
    "    try:\n",
    "        posts_df = pd.read_csv('posts.csv')\n",
    "    except FileNotFoundError:\n",
    "        posts_df = None\n",
    "    return authors_df, companies_df, posts_df"
   ]
  },
  {
   "cell_type": "code",
   "execution_count": 3,
   "id": "e4a09ec0-ece0-4229-bd29-1424500edd41",
   "metadata": {},
   "outputs": [],
   "source": [
    "authors_df, companies_df, posts_df = load_data()"
   ]
  },
  {
   "cell_type": "markdown",
   "id": "2b84b807-e214-4a49-888f-3e15f627f4d4",
   "metadata": {},
   "source": [
    "### 3. Огляд даних"
   ]
  },
  {
   "cell_type": "code",
   "execution_count": 4,
   "id": "0e402d04-1b4a-4bf4-a2ab-303e7602235e",
   "metadata": {},
   "outputs": [],
   "source": [
    "def to_snake_case(df):\n",
    "    df.columns = df.columns.str.strip().str.lower().str.replace(' ', '_', regex=False)\n",
    "    return df"
   ]
  },
  {
   "cell_type": "code",
   "execution_count": 5,
   "id": "fdf1af05-e7f2-44f6-8461-a45a08ef6e4c",
   "metadata": {},
   "outputs": [],
   "source": [
    "for df in [authors_df, companies_df, posts_df]:\n",
    "    to_snake_case(df)"
   ]
  },
  {
   "cell_type": "code",
   "execution_count": 6,
   "id": "c7a0cf3a-174d-48bd-9ce7-61959546eb03",
   "metadata": {},
   "outputs": [],
   "source": [
    "def display_data_info(df):\n",
    "    print(\"Data shape:\", df.shape)\n",
    "    print(50*\"=\")\n",
    "    print(df.dtypes)\n",
    "    print(50*\"=\")\n",
    "    print(\"\\nMissing values in  data:\")\n",
    "    print(df.isnull().sum())\n",
    "    print(50*\"=\")\n",
    "    print(df.head(3))"
   ]
  },
  {
   "cell_type": "code",
   "execution_count": 7,
   "id": "d86ca5e1-8ec7-4aec-adcc-2af65416bd47",
   "metadata": {},
   "outputs": [],
   "source": [
    "def make_hist(column, x_title):\n",
    "    plt.figure(figsize=(6, 3))\n",
    "    plt.hist(column, bins=20, color='skyblue', edgecolor='black')\n",
    "    plt.title('Distribution')\n",
    "    plt.xlabel(f'{x_title}')\n",
    "    plt.ylabel('counts')\n",
    "    plt.grid(True)\n",
    "    plt.tight_layout()\n",
    "    plt.show()"
   ]
  },
  {
   "cell_type": "markdown",
   "id": "79e864c3-e5db-4955-af53-fd64d316648e",
   "metadata": {},
   "source": [
    "### authors_df"
   ]
  },
  {
   "cell_type": "code",
   "execution_count": 8,
   "id": "d9fa4d5f-e75b-4bfc-9b11-da095f4e14d0",
   "metadata": {},
   "outputs": [
    {
     "name": "stdout",
     "output_type": "stream",
     "text": [
      "Data shape: (107, 6)\n",
      "==================================================\n",
      "author_id                                                 int64\n",
      "name                                                     object\n",
      "meibi                                                     int64\n",
      "meibix                                                    int64\n",
      "average_number_of_words_in_posts_(without_stopwords)    float64\n",
      "average_number_of_words_in_posts                        float64\n",
      "dtype: object\n",
      "==================================================\n",
      "\n",
      "Missing values in  data:\n",
      "author_id                                               0\n",
      "name                                                    0\n",
      "meibi                                                   0\n",
      "meibix                                                  0\n",
      "average_number_of_words_in_posts_(without_stopwords)    0\n",
      "average_number_of_words_in_posts                        0\n",
      "dtype: int64\n",
      "==================================================\n",
      "   author_id               name  meibi  meibix  \\\n",
      "0          1      Jason Kincaid     43      43   \n",
      "1          2  Michael Arrington    114     114   \n",
      "2          3    Erick Schonfeld     56      57   \n",
      "\n",
      "   average_number_of_words_in_posts_(without_stopwords)  \\\n",
      "0                                           4.257910      \n",
      "1                                           4.136101      \n",
      "2                                           4.114451      \n",
      "\n",
      "   average_number_of_words_in_posts  \n",
      "0                          5.858018  \n",
      "1                          5.645050  \n",
      "2                          5.660201  \n"
     ]
    }
   ],
   "source": [
    "display_data_info(authors_df)"
   ]
  },
  {
   "cell_type": "markdown",
   "id": "e4f25768-7849-4d82-885f-3c5f86ce4a31",
   "metadata": {},
   "source": [
    "### companies_df"
   ]
  },
  {
   "cell_type": "code",
   "execution_count": 9,
   "id": "568c91ef-1782-45fa-9ec4-06aeb96088f6",
   "metadata": {},
   "outputs": [
    {
     "name": "stdout",
     "output_type": "stream",
     "text": [
      "Data shape: (750, 6)\n",
      "==================================================\n",
      "name                          object\n",
      "year_founded                 float64\n",
      "industry                      object\n",
      "size_range                    object\n",
      "country                       object\n",
      "current_employee_estimate      int64\n",
      "dtype: object\n",
      "==================================================\n",
      "\n",
      "Missing values in  data:\n",
      "name                           0\n",
      "year_founded                 379\n",
      "industry                       0\n",
      "size_range                     0\n",
      "country                      229\n",
      "current_employee_estimate      0\n",
      "dtype: int64\n",
      "==================================================\n",
      "                         name  year_founded  \\\n",
      "0     blue point technologies           NaN   \n",
      "1          call a cab limited           NaN   \n",
      "2  nationwide car hire uk ltd           NaN   \n",
      "\n",
      "                              industry size_range         country  \\\n",
      "0  information technology and services     1 - 10          greece   \n",
      "1                   telecommunications     1 - 10  united kingdom   \n",
      "2     transportation/trucking/railroad     1 - 10             NaN   \n",
      "\n",
      "   current_employee_estimate  \n",
      "0                          0  \n",
      "1                          1  \n",
      "2                          0  \n"
     ]
    }
   ],
   "source": [
    "display_data_info(companies_df)"
   ]
  },
  {
   "cell_type": "code",
   "execution_count": 10,
   "id": "8e1b816e-1a76-49db-b537-df2f710aadd7",
   "metadata": {
    "scrolled": true
   },
   "outputs": [
    {
     "data": {
      "image/png": "[encoded data removed]",
      "text/plain": [
       "<Figure size 600x300 with 1 Axes>"
      ]
     },
     "metadata": {},
     "output_type": "display_data"
    }
   ],
   "source": [
    "make_hist(companies_df['year_founded'], 'year_founded')"
   ]
  },
  {
   "cell_type": "code",
   "execution_count": 11,
   "id": "98bcfeea-9fef-4dce-9be8-0a0f60b7a1fe",
   "metadata": {},
   "outputs": [],
   "source": [
    "companies_df['year_founded'] = companies_df['year_founded'].fillna(0)"
   ]
  },
  {
   "cell_type": "code",
   "execution_count": 12,
   "id": "bbfe4e18-1657-43df-909f-988448986241",
   "metadata": {},
   "outputs": [
    {
     "data": {
      "text/plain": [
       "array(['greece', 'united kingdom', nan, 'belgium', 'romania',\n",
       "       'united states', 'netherlands', 'india', 'italy', 'germany',\n",
       "       'nigeria', 'spain', 'new zealand', 'slovenia', 'brazil', 'iran',\n",
       "       'portugal', 'saudi arabia', 'chile', 'australia', 'sweden',\n",
       "       'colombia', 'canada', 'argentina', 'peru', 'united arab emirates',\n",
       "       'france', 'lithuania', 'bolivia', 'poland', 'lebanon', 'turkey',\n",
       "       'switzerland', 'indonesia', 'malaysia', 'mexico', 'ireland',\n",
       "       'china', 'finland', 'denmark', 'norway', 'venezuela', 'rwanda',\n",
       "       'isle of man', 'dominican republic', 'singapore', 'egypt', 'japan',\n",
       "       'austria', 'taiwan', 'pakistan', 'guadeloupe', 'panama'],\n",
       "      dtype=object)"
      ]
     },
     "execution_count": 12,
     "metadata": {},
     "output_type": "execute_result"
    }
   ],
   "source": [
    "companies_df['country'].unique()"
   ]
  },
  {
   "cell_type": "code",
   "execution_count": 13,
   "id": "2b8d8c63-577f-4a76-abb6-a275be014a99",
   "metadata": {},
   "outputs": [],
   "source": [
    "companies_df['country'] = companies_df['country'].fillna('other')"
   ]
  },
  {
   "cell_type": "markdown",
   "id": "40ec257a-00d1-4b65-a9d2-b87ac98284c1",
   "metadata": {},
   "source": [
    "### posts_df"
   ]
  },
  {
   "cell_type": "code",
   "execution_count": 14,
   "id": "b605b5f1-6ced-43e7-ae20-e5b737b8fd1e",
   "metadata": {},
   "outputs": [
    {
     "name": "stdout",
     "output_type": "stream",
     "text": [
      "Data shape: (19464, 9)\n",
      "==================================================\n",
      "post_id                          int64\n",
      "title                           object\n",
      "blogger's_name                  object\n",
      "blogger's_id                     int64\n",
      "number_of_comments               int64\n",
      "content                         object\n",
      "date                            object\n",
      "number_of_retrieved_inlinks      int64\n",
      "number_of_retrieved_comments     int64\n",
      "dtype: object\n",
      "==================================================\n",
      "\n",
      "Missing values in  data:\n",
      "post_id                          0\n",
      "title                            5\n",
      "blogger's_name                   0\n",
      "blogger's_id                     0\n",
      "number_of_comments               0\n",
      "content                         81\n",
      "date                             0\n",
      "number_of_retrieved_inlinks      0\n",
      "number_of_retrieved_comments     0\n",
      "dtype: int64\n",
      "==================================================\n",
      "   post_id                                              title  \\\n",
      "0        1  We Just Tested Twitter&#8217;s @anywhere Platf...   \n",
      "1        2  Facebook To Launch &#8216;Relationships&#8217;...   \n",
      "2        3  NYTimes Request Correction/Removal Of Our Post...   \n",
      "\n",
      "      blogger's_name  blogger's_id  number_of_comments  \\\n",
      "0      Jason Kincaid             1                  14   \n",
      "1      Jason Kincaid             1                  30   \n",
      "2  Michael Arrington             2                  38   \n",
      "\n",
      "                                             content        date  \\\n",
      "0  During his keynote at SXSW last month, Twitter...  2010-04-01   \n",
      "1  Later this month Facebook is holding its f8 co...  2010-04-01   \n",
      "2  A NYTimes communications person emailed to ask...  2010-04-01   \n",
      "\n",
      "   number_of_retrieved_inlinks  number_of_retrieved_comments  \n",
      "0                            0                            14  \n",
      "1                            0                            30  \n",
      "2                            4                            38  \n"
     ]
    }
   ],
   "source": [
    "display_data_info(posts_df)"
   ]
  },
  {
   "cell_type": "code",
   "execution_count": 15,
   "id": "3cd4cc89-04cf-4f3e-8b82-dc39bf797d87",
   "metadata": {
    "scrolled": true
   },
   "outputs": [
    {
     "data": {
      "text/html": [
       "<div>\n",
       "<style scoped>\n",
       "    .dataframe tbody tr th:only-of-type {\n",
       "        vertical-align: middle;\n",
       "    }\n",
       "\n",
       "    .dataframe tbody tr th {\n",
       "        vertical-align: top;\n",
       "    }\n",
       "\n",
       "    .dataframe thead th {\n",
       "        text-align: right;\n",
       "    }\n",
       "</style>\n",
       "<table border=\"1\" class=\"dataframe\">\n",
       "  <thead>\n",
       "    <tr style=\"text-align: right;\">\n",
       "      <th></th>\n",
       "      <th>post_id</th>\n",
       "      <th>title</th>\n",
       "      <th>blogger's_name</th>\n",
       "      <th>blogger's_id</th>\n",
       "      <th>number_of_comments</th>\n",
       "      <th>content</th>\n",
       "      <th>date</th>\n",
       "      <th>number_of_retrieved_inlinks</th>\n",
       "      <th>number_of_retrieved_comments</th>\n",
       "    </tr>\n",
       "  </thead>\n",
       "  <tbody>\n",
       "    <tr>\n",
       "      <th>6032</th>\n",
       "      <td>6033</td>\n",
       "      <td>NaN</td>\n",
       "      <td>MG Siegler</td>\n",
       "      <td>5</td>\n",
       "      <td>1</td>\n",
       "      <td>You&amp;#8217;d think on a phone that can do as ma...</td>\n",
       "      <td>2009-07-07</td>\n",
       "      <td>0</td>\n",
       "      <td>0</td>\n",
       "    </tr>\n",
       "    <tr>\n",
       "      <th>6060</th>\n",
       "      <td>6061</td>\n",
       "      <td>NaN</td>\n",
       "      <td>Sarah Lacy</td>\n",
       "      <td>18</td>\n",
       "      <td>1</td>\n",
       "      <td>Marc Andreessen and Ben Horowitz are launching...</td>\n",
       "      <td>2009-07-05</td>\n",
       "      <td>0</td>\n",
       "      <td>0</td>\n",
       "    </tr>\n",
       "    <tr>\n",
       "      <th>6750</th>\n",
       "      <td>6751</td>\n",
       "      <td>NaN</td>\n",
       "      <td>Sarah Lacy</td>\n",
       "      <td>18</td>\n",
       "      <td>1</td>\n",
       "      <td>Since I got home from China last week, I&amp;#8217...</td>\n",
       "      <td>2009-06-01</td>\n",
       "      <td>0</td>\n",
       "      <td>0</td>\n",
       "    </tr>\n",
       "    <tr>\n",
       "      <th>7602</th>\n",
       "      <td>7603</td>\n",
       "      <td>NaN</td>\n",
       "      <td>Sarah Lacy</td>\n",
       "      <td>18</td>\n",
       "      <td>1</td>\n",
       "      <td>Silicon Valley is known for nurturing start-up...</td>\n",
       "      <td>2009-04-19</td>\n",
       "      <td>0</td>\n",
       "      <td>0</td>\n",
       "    </tr>\n",
       "    <tr>\n",
       "      <th>13313</th>\n",
       "      <td>13314</td>\n",
       "      <td>NaN</td>\n",
       "      <td>Erick Schonfeld</td>\n",
       "      <td>3</td>\n",
       "      <td>0</td>\n",
       "      <td>This morning, the New York Post ran a story wi...</td>\n",
       "      <td>2008-03-27</td>\n",
       "      <td>0</td>\n",
       "      <td>0</td>\n",
       "    </tr>\n",
       "  </tbody>\n",
       "</table>\n",
       "</div>"
      ],
      "text/plain": [
       "       post_id title   blogger's_name  blogger's_id  number_of_comments  \\\n",
       "6032      6033   NaN       MG Siegler             5                   1   \n",
       "6060      6061   NaN       Sarah Lacy            18                   1   \n",
       "6750      6751   NaN       Sarah Lacy            18                   1   \n",
       "7602      7603   NaN       Sarah Lacy            18                   1   \n",
       "13313    13314   NaN  Erick Schonfeld             3                   0   \n",
       "\n",
       "                                                 content        date  \\\n",
       "6032   You&#8217;d think on a phone that can do as ma...  2009-07-07   \n",
       "6060   Marc Andreessen and Ben Horowitz are launching...  2009-07-05   \n",
       "6750   Since I got home from China last week, I&#8217...  2009-06-01   \n",
       "7602   Silicon Valley is known for nurturing start-up...  2009-04-19   \n",
       "13313  This morning, the New York Post ran a story wi...  2008-03-27   \n",
       "\n",
       "       number_of_retrieved_inlinks  number_of_retrieved_comments  \n",
       "6032                             0                             0  \n",
       "6060                             0                             0  \n",
       "6750                             0                             0  \n",
       "7602                             0                             0  \n",
       "13313                            0                             0  "
      ]
     },
     "execution_count": 15,
     "metadata": {},
     "output_type": "execute_result"
    }
   ],
   "source": [
    "posts_df[posts_df['title'].isna()]"
   ]
  },
  {
   "cell_type": "code",
   "execution_count": 16,
   "id": "999513a5-0acd-4338-ad5d-494b820af03b",
   "metadata": {},
   "outputs": [],
   "source": [
    "posts_df.dropna(subset=['title'], inplace=True)"
   ]
  },
  {
   "cell_type": "code",
   "execution_count": 17,
   "id": "3cbff67e-10d1-4343-8e47-6415e716d4e2",
   "metadata": {},
   "outputs": [
    {
     "data": {
      "text/html": [
       "<div>\n",
       "<style scoped>\n",
       "    .dataframe tbody tr th:only-of-type {\n",
       "        vertical-align: middle;\n",
       "    }\n",
       "\n",
       "    .dataframe tbody tr th {\n",
       "        vertical-align: top;\n",
       "    }\n",
       "\n",
       "    .dataframe thead th {\n",
       "        text-align: right;\n",
       "    }\n",
       "</style>\n",
       "<table border=\"1\" class=\"dataframe\">\n",
       "  <thead>\n",
       "    <tr style=\"text-align: right;\">\n",
       "      <th></th>\n",
       "      <th>post_id</th>\n",
       "      <th>title</th>\n",
       "      <th>blogger's_name</th>\n",
       "      <th>blogger's_id</th>\n",
       "      <th>number_of_comments</th>\n",
       "      <th>content</th>\n",
       "      <th>date</th>\n",
       "      <th>number_of_retrieved_inlinks</th>\n",
       "      <th>number_of_retrieved_comments</th>\n",
       "    </tr>\n",
       "  </thead>\n",
       "  <tbody>\n",
       "    <tr>\n",
       "      <th>3663</th>\n",
       "      <td>3664</td>\n",
       "      <td>Video hilarity: Windows 7 launched on a MacBoo...</td>\n",
       "      <td>Nicholas Deleon</td>\n",
       "      <td>25</td>\n",
       "      <td>193</td>\n",
       "      <td>NaN</td>\n",
       "      <td>2009-10-23</td>\n",
       "      <td>21</td>\n",
       "      <td>109</td>\n",
       "    </tr>\n",
       "    <tr>\n",
       "      <th>4393</th>\n",
       "      <td>4394</td>\n",
       "      <td>Plaintiffs In Google Books Settlement Try To D...</td>\n",
       "      <td>Leena Rao</td>\n",
       "      <td>7</td>\n",
       "      <td>5</td>\n",
       "      <td>NaN</td>\n",
       "      <td>2009-09-22</td>\n",
       "      <td>1</td>\n",
       "      <td>3</td>\n",
       "    </tr>\n",
       "    <tr>\n",
       "      <th>5358</th>\n",
       "      <td>5359</td>\n",
       "      <td>Video: Where were you when Twitter went down?</td>\n",
       "      <td>Nicholas Deleon</td>\n",
       "      <td>25</td>\n",
       "      <td>55</td>\n",
       "      <td>NaN</td>\n",
       "      <td>2009-08-07</td>\n",
       "      <td>2</td>\n",
       "      <td>46</td>\n",
       "    </tr>\n",
       "  </tbody>\n",
       "</table>\n",
       "</div>"
      ],
      "text/plain": [
       "      post_id                                              title  \\\n",
       "3663     3664  Video hilarity: Windows 7 launched on a MacBoo...   \n",
       "4393     4394  Plaintiffs In Google Books Settlement Try To D...   \n",
       "5358     5359      Video: Where were you when Twitter went down?   \n",
       "\n",
       "       blogger's_name  blogger's_id  number_of_comments content        date  \\\n",
       "3663  Nicholas Deleon            25                 193     NaN  2009-10-23   \n",
       "4393        Leena Rao             7                   5     NaN  2009-09-22   \n",
       "5358  Nicholas Deleon            25                  55     NaN  2009-08-07   \n",
       "\n",
       "      number_of_retrieved_inlinks  number_of_retrieved_comments  \n",
       "3663                           21                           109  \n",
       "4393                            1                             3  \n",
       "5358                            2                            46  "
      ]
     },
     "execution_count": 17,
     "metadata": {},
     "output_type": "execute_result"
    }
   ],
   "source": [
    "posts_df[posts_df['content'].isna()].head(3)"
   ]
  },
  {
   "cell_type": "code",
   "execution_count": 18,
   "id": "94da5394-a6c5-489e-9fb7-2d99378c4d9c",
   "metadata": {},
   "outputs": [],
   "source": [
    "posts_df.dropna(subset=['content'], inplace=True)"
   ]
  },
  {
   "cell_type": "code",
   "execution_count": 19,
   "id": "533043aa-ad98-4742-b665-ca489db324bf",
   "metadata": {},
   "outputs": [],
   "source": [
    "posts_df['date'] = pd.to_datetime(posts_df['date'], errors='coerce')['date'] = pd.to_datetime(posts_df['date'], errors='coerce')\n",
    "posts_df['year'] = posts_df['date'].dt.year\n",
    "posts_df['month'] = posts_df['date'].dt.month\n",
    "posts_df['day'] = posts_df['date'].dt.day"
   ]
  },
  {
   "cell_type": "code",
   "execution_count": 20,
   "id": "73d02b68-7c96-4876-b904-45366fc6f619",
   "metadata": {},
   "outputs": [],
   "source": [
    "posts_df.drop(columns=['date'], inplace=True)"
   ]
  },
  {
   "cell_type": "code",
   "execution_count": null,
   "id": "1e26fa6d-5bd3-41e4-a79e-f334469d386f",
   "metadata": {},
   "outputs": [],
   "source": []
  },
  {
   "cell_type": "code",
   "execution_count": 21,
   "id": "f07e8959-39db-4c99-b3e4-8652b77e692a",
   "metadata": {},
   "outputs": [],
   "source": [
    "authors_posts_df = posts_df.merge(authors_df, left_on=\"blogger's_id\", right_on=\"author_id\", how='inner')"
   ]
  },
  {
   "cell_type": "code",
   "execution_count": 22,
   "id": "25c9226d-01da-4475-83e0-ffa6a33c1c94",
   "metadata": {},
   "outputs": [
    {
     "data": {
      "text/plain": [
       "(19378, 17)"
      ]
     },
     "execution_count": 22,
     "metadata": {},
     "output_type": "execute_result"
    }
   ],
   "source": [
    "authors_posts_df.shape"
   ]
  },
  {
   "cell_type": "code",
   "execution_count": 23,
   "id": "d62f33de-eb10-45d9-a084-073a1f36ba01",
   "metadata": {},
   "outputs": [],
   "source": [
    "# cols = authors_posts_df.select_dtypes(include='int64').columns\n",
    "# for col in cols:\n",
    "#     print(col) \n",
    "#     print(f'         max  {authors_posts_df[col].max()}, min  {authors_posts_df[col].min()}')"
   ]
  },
  {
   "cell_type": "code",
   "execution_count": 24,
   "id": "eae9e71b-51f2-4ce6-a2d6-2293d4598483",
   "metadata": {},
   "outputs": [],
   "source": [
    "# cols = authors_posts_df.select_dtypes(include='float64').columns\n",
    "# for col in cols:\n",
    "#     print(col) \n",
    "#     print(f'         max  {authors_posts_df[col].max()}, min  {authors_posts_df[col].min()}')"
   ]
  },
  {
   "cell_type": "code",
   "execution_count": 25,
   "id": "ccc949de-4d58-4e46-8dd2-3c2dc457df21",
   "metadata": {},
   "outputs": [],
   "source": [
    "def convert_dtypes(df):\n",
    "    before = df.memory_usage(deep=True).sum()\n",
    "\n",
    "    int_cols = df.select_dtypes(include='int64').columns\n",
    "    for col in int_cols:\n",
    "        df[col] = df[col].astype('int16')\n",
    "    \n",
    "    float_cols = df.select_dtypes(include='float64').columns\n",
    "    df[float_cols] = df[float_cols].astype('float16')\n",
    "    \n",
    "    after = df.memory_usage(deep=True).sum()\n",
    "    print(f\"Memory reduced from {before/1e6:.2f} MB to {after/1e6:.2f} MB\")\n",
    "    return df"
   ]
  },
  {
   "cell_type": "code",
   "execution_count": 26,
   "id": "4fbbceda-5795-424c-9b19-96d7fb2d1273",
   "metadata": {},
   "outputs": [
    {
     "name": "stdout",
     "output_type": "stream",
     "text": [
      "Memory reduced from 69.69 MB to 68.53 MB\n"
     ]
    }
   ],
   "source": [
    "authors_posts_df = convert_dtypes(authors_posts_df)"
   ]
  },
  {
   "cell_type": "code",
   "execution_count": 27,
   "id": "f79441a2-62c3-4498-9f21-508fde804068",
   "metadata": {},
   "outputs": [
    {
     "name": "stdout",
     "output_type": "stream",
     "text": [
      "Memory reduced from 0.23 MB to 0.22 MB\n"
     ]
    }
   ],
   "source": [
    "companies_df = convert_dtypes(companies_df)"
   ]
  },
  {
   "cell_type": "code",
   "execution_count": 28,
   "id": "ebc462c1-a8dd-4806-b314-1b8593778456",
   "metadata": {},
   "outputs": [
    {
     "data": {
      "text/plain": [
       "Index(['post_id', 'title', 'blogger's_name', 'blogger's_id',\n",
       "       'number_of_comments', 'content', 'number_of_retrieved_inlinks',\n",
       "       'number_of_retrieved_comments', 'year', 'month', 'day', 'author_id',\n",
       "       'name', 'meibi', 'meibix',\n",
       "       'average_number_of_words_in_posts_(without_stopwords)',\n",
       "       'average_number_of_words_in_posts'],\n",
       "      dtype='object')"
      ]
     },
     "execution_count": 28,
     "metadata": {},
     "output_type": "execute_result"
    }
   ],
   "source": [
    "authors_posts_df.columns"
   ]
  },
  {
   "cell_type": "markdown",
   "id": "d591581d-2a1e-4c67-9b73-e4a357aca637",
   "metadata": {},
   "source": [
    "### 4. Підготовка фіч для кластеризації"
   ]
  },
  {
   "cell_type": "code",
   "execution_count": 29,
   "id": "5dc4f131-fb04-43b4-afa0-c6e9ad54d2b4",
   "metadata": {},
   "outputs": [],
   "source": [
    "def prepare_clustering_features(df):\n",
    "    df['word_efficiency'] = (\n",
    "        df['average_number_of_words_in_posts_(without_stopwords)'] / \n",
    "        df['average_number_of_words_in_posts']\n",
    "    )\n",
    "    df['influence_quality_ratio'] = df['meibi'] / df['meibix']\n",
    "    df['influence_quality_ratio'].fillna(0, inplace=True)\n",
    "    features = [\n",
    "        'meibi',\n",
    "        'meibix',\n",
    "        'average_number_of_words_in_posts_(without_stopwords)',\n",
    "        'average_number_of_words_in_posts',\n",
    "        'word_efficiency',\n",
    "        'influence_quality_ratio'\n",
    "    ]\n",
    "\n",
    "    return df, features"
   ]
  },
  {
   "cell_type": "code",
   "execution_count": 30,
   "id": "e17f3682-77c1-40dd-87d3-d529cb288606",
   "metadata": {},
   "outputs": [],
   "source": [
    "authors_posts_df, features = prepare_clustering_features(authors_posts_df)"
   ]
  },
  {
   "cell_type": "markdown",
   "id": "5d1b2c5e-bad7-4c42-b4e1-1c08d9fa5678",
   "metadata": {},
   "source": [
    "### 5. Кластеризація (KMeans + вибір оптимального k)"
   ]
  },
  {
   "cell_type": "code",
   "execution_count": 31,
   "id": "aaf70d95-b6bb-45d9-b83b-f0ba26f568ec",
   "metadata": {},
   "outputs": [],
   "source": [
    "def perform_clustering(df, features, k_range=(2,8)):\n",
    "    scaler = StandardScaler()\n",
    "    X = df[features].values\n",
    "    X_scaled = scaler.fit_transform(X)\n",
    "    \n",
    "    silhouette_scores = []\n",
    "    inertias = []\n",
    "    \n",
    "    for k in range(k_range[0], k_range[1]+1):\n",
    "        kmeans = KMeans(n_clusters=k, random_state=42, n_init=10)\n",
    "        labels = kmeans.fit_predict(X_scaled)\n",
    "        silhouette_scores.append(silhouette_score(X_scaled, labels))\n",
    "        inertias.append(kmeans.inertia_)\n",
    "    \n",
    "    optimal_k = range(k_range[0], k_range[1]+1)[np.argmax(silhouette_scores)]\n",
    "    print(f\"Optimal k: {optimal_k}, silhouette score: {max(silhouette_scores):.3f}\")\n",
    "    \n",
    "    final_model = KMeans(n_clusters=optimal_k, random_state=42, n_init=10)\n",
    "    cluster_labels = final_model.fit_predict(X_scaled)\n",
    "    df['Cluster'] = cluster_labels\n",
    "    \n",
    "    return df, final_model, X_scaled, cluster_labels, features"
   ]
  },
  {
   "cell_type": "code",
   "execution_count": 32,
   "id": "c502f132-f681-43ad-86d3-e4ef9c784c65",
   "metadata": {},
   "outputs": [
    {
     "data": {
      "text/plain": [
       "post_id                                                 0\n",
       "title                                                   0\n",
       "blogger's_name                                          0\n",
       "blogger's_id                                            0\n",
       "number_of_comments                                      0\n",
       "content                                                 0\n",
       "number_of_retrieved_inlinks                             0\n",
       "number_of_retrieved_comments                            0\n",
       "year                                                    0\n",
       "month                                                   0\n",
       "day                                                     0\n",
       "author_id                                               0\n",
       "name                                                    0\n",
       "meibi                                                   0\n",
       "meibix                                                  0\n",
       "average_number_of_words_in_posts_(without_stopwords)    0\n",
       "average_number_of_words_in_posts                        0\n",
       "word_efficiency                                         0\n",
       "influence_quality_ratio                                 0\n",
       "dtype: int64"
      ]
     },
     "execution_count": 32,
     "metadata": {},
     "output_type": "execute_result"
    }
   ],
   "source": [
    "authors_posts_df.isna().sum()"
   ]
  },
  {
   "cell_type": "code",
   "execution_count": 33,
   "id": "d7227f71-27f4-43d2-9d06-a21e75e0d839",
   "metadata": {},
   "outputs": [
    {
     "name": "stdout",
     "output_type": "stream",
     "text": [
      "Optimal k: 8, silhouette score: 0.709\n"
     ]
    }
   ],
   "source": [
    "df, kmeans_model, X_scaled, cluster_labels, features = perform_clustering(authors_posts_df, features)"
   ]
  },
  {
   "cell_type": "markdown",
   "id": "1ca92cc9-8cf3-4f34-8ca6-4be4073894af",
   "metadata": {},
   "source": [
    "### 6. Візуалізація кластерів"
   ]
  },
  {
   "cell_type": "code",
   "execution_count": 34,
   "id": "59a19890-5bc1-4089-978e-7d2b8afb5c5c",
   "metadata": {},
   "outputs": [],
   "source": [
    "from sklearn.decomposition import PCA\n",
    "from scipy.cluster.hierarchy import dendrogram, linkage\n",
    "import matplotlib.pyplot as plt\n",
    "import pandas as pd\n",
    "\n",
    "def visualize_clusters(df, X_scaled, cluster_labels, features):\n",
    "    pca = PCA(n_components=2)\n",
    "    X_pca = pca.fit_transform(X_scaled)\n",
    "    \n",
    "    plt.figure(figsize=(15, 10))\n",
    "    \n",
    "    # 1. Кластери у PCA-просторі\n",
    "    plt.subplot(2, 3, 1)\n",
    "    scatter = plt.scatter(X_pca[:, 0], X_pca[:, 1], c=cluster_labels, cmap='viridis')\n",
    "    plt.xlabel(f'PC1 ({pca.explained_variance_ratio_[0]*100:.2f}%)')\n",
    "    plt.ylabel(f'PC2 ({pca.explained_variance_ratio_[1]*100:.2f}%)')\n",
    "    plt.title('Blogger Clusters (PCA)')\n",
    "    plt.colorbar(scatter)\n",
    "    \n",
    "    # 2. MEIBI vs MEIBIX\n",
    "    plt.subplot(2, 3, 2)\n",
    "    plt.scatter(df['meibi'], df['meibix'], c=cluster_labels, cmap='viridis')\n",
    "    plt.xlabel('MEIBI')\n",
    "    plt.ylabel('MEIBIX')\n",
    "    plt.title('Influence vs Quality')\n",
    "    \n",
    "    # 3. Середня довжина поста vs ефективність\n",
    "    plt.subplot(2, 3, 3)\n",
    "    plt.scatter(df['average_number_of_words_in_posts'], df['word_efficiency'], c=cluster_labels, cmap='viridis')\n",
    "    plt.xlabel('Average Words per Post')\n",
    "    plt.ylabel('Word Efficiency')\n",
    "    plt.title('Content Metrics')\n",
    "    \n",
    "    # 4. Розподіл по кластерах\n",
    "    plt.subplot(2, 3, 4)\n",
    "    counts = pd.Series(cluster_labels).value_counts().sort_index()\n",
    "    plt.bar(counts.index, counts.values)\n",
    "    plt.xlabel('Cluster')\n",
    "    plt.ylabel('Number of Bloggers')\n",
    "    plt.title('Cluster Size Distribution')\n",
    "    \n",
    "    # 5. Важливість ознак у PCA\n",
    "    plt.subplot(2, 3, 5)\n",
    "    comp_df = pd.DataFrame(pca.components_.T, index=features, columns=['PC1', 'PC2'])\n",
    "    comp_df.plot(kind='bar', ax=plt.gca())\n",
    "    plt.title('PCA Feature Importance')\n",
    "    plt.xticks(rotation=45)\n",
    "    \n",
    "    # 6. Дендограмa\n",
    "    plt.subplot(2, 3, 6)\n",
    "    linkage_matrix = linkage(X_scaled, method='ward')\n",
    "    dendrogram(linkage_matrix, truncate_mode='lastp', p=20)\n",
    "    plt.title('Hierarchical Clustering Dendrogram')\n",
    "    \n",
    "    plt.tight_layout()\n",
    "    plt.show()\n"
   ]
  },
  {
   "cell_type": "code",
   "execution_count": 35,
   "id": "6da998a4-016d-497b-ba5f-e9b34f3427b1",
   "metadata": {},
   "outputs": [
    {
     "data": {
      "image/png": "[encoded data removed]",
      "text/plain": [
       "<Figure size 1500x1000 with 7 Axes>"
      ]
     },
     "metadata": {},
     "output_type": "display_data"
    }
   ],
   "source": [
    "visualize_clusters(df, X_scaled, cluster_labels, features)"
   ]
  },
  {
   "cell_type": "markdown",
   "id": "c1a8de9b-21d7-4ec0-9273-b11bfde187dc",
   "metadata": {},
   "source": [
    "### 7. Аналіз кластерів (приклад)"
   ]
  },
  {
   "cell_type": "code",
   "execution_count": 36,
   "id": "a5d6a152-ebdd-4110-afab-b0954ad613be",
   "metadata": {},
   "outputs": [],
   "source": [
    "def analyze_clusters(df):\n",
    "    n_clusters = df['Cluster'].nunique()\n",
    "    overall_meibi = df['meibi'].mean()\n",
    "    overall_meibix = df['meibix'].mean()\n",
    "    overall_words = df['average_number_of_words_in_posts'].mean()\n",
    "    \n",
    "    cluster_profiles = {}\n",
    "    for cluster in range(n_clusters):\n",
    "        cluster_df = df[df['Cluster'] == cluster]\n",
    "        avg_meibi = cluster_df['meibi'].mean()\n",
    "        avg_meibix = cluster_df['meibix'].mean()\n",
    "        avg_words = cluster_df['average_number_of_words_in_posts'].mean()\n",
    "        word_efficiency = (\n",
    "            cluster_df['average_number_of_words_in_posts_(without_stopwords)'] /\n",
    "            cluster_df['average_number_of_words_in_posts']\n",
    "        ).mean()\n",
    "        \n",
    "        # Визначення типу кластера\n",
    "        if avg_meibi > overall_meibi * 1.5 and avg_meibix > overall_meibix * 1.5:\n",
    "            ctype = \"Top Influencers\"\n",
    "        elif avg_meibi > overall_meibi and avg_words > overall_words * 1.2:\n",
    "            ctype = \"Content Creators\"\n",
    "        elif word_efficiency > 0.75 and avg_words < overall_words:\n",
    "            ctype = \"Micro-Influencers\"\n",
    "        elif avg_meibix > avg_meibi:\n",
    "            ctype = \"Quality Focused\"\n",
    "        else:\n",
    "            ctype = \"Emerging Influencers\"\n",
    "        \n",
    "        cluster_profiles[cluster] = {\n",
    "            'type': ctype,\n",
    "            'size': len(cluster_df),\n",
    "            'avg_meibi': avg_meibi,\n",
    "            'avg_meibix': avg_meibix,\n",
    "            'avg_words': avg_words,\n",
    "            'word_efficiency': word_efficiency,\n",
    "            'sample_names': list(cluster_df['name'].head(3))\n",
    "        }\n",
    "        \n",
    "        print(f\"\\nCluster {cluster}: {ctype}, size = {len(cluster_df)}\")\n",
    "        print(f\"Sample bloggers: {cluster_profiles[cluster]['sample_names']}\")\n",
    "    \n",
    "    return cluster_profiles"
   ]
  },
  {
   "cell_type": "code",
   "execution_count": 37,
   "id": "8f903af7-1087-488b-97e2-8bfe453910e4",
   "metadata": {},
   "outputs": [
    {
     "name": "stdout",
     "output_type": "stream",
     "text": [
      "\n",
      "Cluster 0: Emerging Influencers, size = 5523\n",
      "Sample bloggers: ['Jason Kincaid', 'Jason Kincaid', 'Jason Kincaid']\n",
      "\n",
      "Cluster 1: Top Influencers, size = 4888\n",
      "Sample bloggers: ['Michael Arrington', 'Michael Arrington', 'Michael Arrington']\n",
      "\n",
      "Cluster 2: Emerging Influencers, size = 1643\n",
      "Sample bloggers: ['MG Siegler', 'MG Siegler', 'MG Siegler']\n",
      "\n",
      "Cluster 3: Emerging Influencers, size = 1626\n",
      "Sample bloggers: ['Leena Rao', 'Leena Rao', 'Leena Rao']\n",
      "\n",
      "Cluster 4: Micro-Influencers, size = 48\n",
      "Sample bloggers: ['Arden Pennell', 'Arden Pennell', 'Roxanne Varza']\n",
      "\n",
      "Cluster 5: Emerging Influencers, size = 1714\n",
      "Sample bloggers: ['Mike Butcher', 'Mike Butcher', 'Mike Butcher']\n",
      "\n",
      "Cluster 6: Emerging Influencers, size = 825\n",
      "Sample bloggers: ['John Biggs', 'John Biggs', 'John Biggs']\n",
      "\n",
      "Cluster 7: Quality Focused, size = 3111\n",
      "Sample bloggers: ['Erick Schonfeld', 'Erick Schonfeld', 'Erick Schonfeld']\n"
     ]
    }
   ],
   "source": [
    "cluster_profiles = analyze_clusters(df)"
   ]
  },
  {
   "cell_type": "markdown",
   "id": "aa9facb0-56ca-4fe5-8560-63a269feaa4c",
   "metadata": {},
   "source": [
    "### 8. Підготовка даних компаній"
   ]
  },
  {
   "cell_type": "code",
   "execution_count": 40,
   "id": "480013f9-71d0-4fbd-865c-a58321791534",
   "metadata": {},
   "outputs": [],
   "source": [
    "# def prepare_companies(companies_df, bloggers_df):\n",
    "#     agg_metrics = bloggers_df.groupby('company_name').agg({\n",
    "#         'meibi': 'mean',\n",
    "#         'meibix': 'mean',\n",
    "#         'average_number_of_words_in_posts': 'mean'\n",
    "#     }).rename(columns={\n",
    "#         'meibi': 'mean_influence',\n",
    "#         'meibix': 'mean_quality',\n",
    "#         'average_number_of_words_in_posts': 'mean_words'\n",
    "#     }).reset_index()\n",
    "    \n",
    "\n",
    "#     companies_df = companies_df.merge(agg_metrics, left_on='name', right_on='company_name', how='left')\n",
    "    \n",
    "#     companies_df[['mean_influence', 'mean_quality', 'mean_words']] = companies_df[[\n",
    "#         'mean_influence', 'mean_quality', 'mean_words'\n",
    "#     ]].fillna(0)\n",
    "    \n",
    "#     return companies_df"
   ]
  },
  {
   "cell_type": "code",
   "execution_count": 42,
   "id": "f88a0e2e-8c08-4c23-b042-da59edae122e",
   "metadata": {},
   "outputs": [],
   "source": [
    "# companies_df = prepare_companies(companies_df, df)"
   ]
  },
  {
   "cell_type": "code",
   "execution_count": 45,
   "id": "824ccaa7-de7c-4bcf-aa75-056f731c64ab",
   "metadata": {},
   "outputs": [
    {
     "data": {
      "text/plain": [
       "mean_influence    0.0\n",
       "mean_quality      0.0\n",
       "mean_words        0.0\n",
       "dtype: float64"
      ]
     },
     "execution_count": 45,
     "metadata": {},
     "output_type": "execute_result"
    }
   ],
   "source": [
    "# companies_df[['mean_influence', \t'mean_quality', \t'mean_words']].sum()"
   ]
  },
  {
   "cell_type": "markdown",
   "id": "aa21214f-d0fe-4a09-80dd-785369863180",
   "metadata": {},
   "source": [
    "### 9. Рекомендації блогерів для компаній (на основі найближчих кластерів)"
   ]
  },
  {
   "cell_type": "code",
   "execution_count": 65,
   "id": "b0172502-8ebd-40f6-9c18-f9b50c422cc2",
   "metadata": {},
   "outputs": [
    {
     "data": {
      "text/plain": [
       "Index(['name', 'year_founded', 'industry', 'size_range', 'country',\n",
       "       'current_employee_estimate'],\n",
       "      dtype='object')"
      ]
     },
     "execution_count": 65,
     "metadata": {},
     "output_type": "execute_result"
    }
   ],
   "source": [
    "companies_df.columns"
   ]
  },
  {
   "cell_type": "code",
   "execution_count": 66,
   "id": "bc31f09f-0a37-40d1-a8a8-4ca0ac1036ab",
   "metadata": {},
   "outputs": [
    {
     "data": {
      "text/plain": [
       "Index(['post_id', 'title', 'blogger's_name', 'blogger's_id',\n",
       "       'number_of_comments', 'content', 'number_of_retrieved_inlinks',\n",
       "       'number_of_retrieved_comments', 'year', 'month', 'day', 'author_id',\n",
       "       'name', 'meibi', 'meibix',\n",
       "       'average_number_of_words_in_posts_(without_stopwords)',\n",
       "       'average_number_of_words_in_posts', 'word_efficiency',\n",
       "       'influence_quality_ratio', 'Cluster'],\n",
       "      dtype='object')"
      ]
     },
     "execution_count": 66,
     "metadata": {},
     "output_type": "execute_result"
    }
   ],
   "source": [
    "df.columns"
   ]
  },
  {
   "cell_type": "code",
   "execution_count": 46,
   "id": "6090152b-159c-49af-9fa2-6cf8d4a87304",
   "metadata": {},
   "outputs": [],
   "source": [
    "def recommend_bloggers_for_companies(companies_df, bloggers_df, cluster_profiles, n_recommendations=3):\n",
    "    recommendations = {}\n",
    "    \n",
    "    for _, row in companies_df.iterrows():\n",
    "        company_name = row['name']\n",
    "        \n",
    "        # Визначаємо найбільш відповідний кластер\n",
    "        best_cluster = None\n",
    "        best_score = -np.inf\n",
    "        \n",
    "        for cluster, profile in cluster_profiles.items():\n",
    "            score = -abs(row['mean_influence'] - profile['avg_meibi']) \\\n",
    "                    -abs(row['mean_quality'] - profile['avg_meibix']) \\\n",
    "                    -abs(row['mean_words'] - profile['avg_words'])\n",
    "            \n",
    "            if score > best_score:\n",
    "                best_score = score\n",
    "                best_cluster = cluster\n",
    "        \n",
    "        # Отримуємо блогерів із найкращого кластера\n",
    "        cluster_bloggers = bloggers_df[bloggers_df['Cluster'] == best_cluster]\n",
    "        \n",
    "        # Обираємо топ-n за MEIBI\n",
    "        top_bloggers = cluster_bloggers.sort_values(by='meibi', ascending=False).head(n_recommendations)\n",
    "        \n",
    "        recommendations[company_name] = list(zip(top_bloggers['name'], top_bloggers['meibi']))\n",
    "    \n",
    "    return recommendations"
   ]
  },
  {
   "cell_type": "markdown",
   "id": "911770f4-d691-4605-a734-036e1bec5ed2",
   "metadata": {},
   "source": [
    "### 10. Приклад запуску всього пайплайна"
   ]
  },
  {
   "cell_type": "code",
   "execution_count": 50,
   "id": "111f9f5c-9c2d-48ef-b36a-75a457ddfc39",
   "metadata": {},
   "outputs": [
    {
     "data": {
      "image/png": "[encoded data removed]",
      "text/plain": [
       "<Figure size 600x300 with 1 Axes>"
      ]
     },
     "metadata": {},
     "output_type": "display_data"
    }
   ],
   "source": [
    "make_hist(df['meibi'], 'meibi')"
   ]
  },
  {
   "cell_type": "code",
   "execution_count": 53,
   "id": "32c1fb3b-4252-4913-9114-a79307f40a49",
   "metadata": {},
   "outputs": [],
   "source": [
    "recs = recommend_bloggers_for_companies(companies_df, df, cluster_profiles)"
   ]
  },
  {
   "cell_type": "code",
   "execution_count": 60,
   "id": "bbf4317e-1b0a-4e91-93bb-16c390855e62",
   "metadata": {},
   "outputs": [],
   "source": [
    "recs_df = pd.DataFrame(recs).T"
   ]
  },
  {
   "cell_type": "code",
   "execution_count": 61,
   "id": "a1db63a4-d834-4330-ba8a-23f4c90379bf",
   "metadata": {},
   "outputs": [
    {
     "data": {
      "text/html": [
       "<div>\n",
       "<style scoped>\n",
       "    .dataframe tbody tr th:only-of-type {\n",
       "        vertical-align: middle;\n",
       "    }\n",
       "\n",
       "    .dataframe tbody tr th {\n",
       "        vertical-align: top;\n",
       "    }\n",
       "\n",
       "    .dataframe thead th {\n",
       "        text-align: right;\n",
       "    }\n",
       "</style>\n",
       "<table border=\"1\" class=\"dataframe\">\n",
       "  <thead>\n",
       "    <tr style=\"text-align: right;\">\n",
       "      <th></th>\n",
       "      <th>0</th>\n",
       "      <th>1</th>\n",
       "      <th>2</th>\n",
       "    </tr>\n",
       "  </thead>\n",
       "  <tbody>\n",
       "    <tr>\n",
       "      <th>blue point technologies</th>\n",
       "      <td>(Arden Pennell, 0)</td>\n",
       "      <td>(Arden Pennell, 0)</td>\n",
       "      <td>(Stefano Bernardi, 0)</td>\n",
       "    </tr>\n",
       "    <tr>\n",
       "      <th>call a cab limited</th>\n",
       "      <td>(Arden Pennell, 0)</td>\n",
       "      <td>(Arden Pennell, 0)</td>\n",
       "      <td>(Stefano Bernardi, 0)</td>\n",
       "    </tr>\n",
       "    <tr>\n",
       "      <th>nationwide car hire uk ltd</th>\n",
       "      <td>(Arden Pennell, 0)</td>\n",
       "      <td>(Arden Pennell, 0)</td>\n",
       "      <td>(Stefano Bernardi, 0)</td>\n",
       "    </tr>\n",
       "    <tr>\n",
       "      <th>european biomass association</th>\n",
       "      <td>(Arden Pennell, 0)</td>\n",
       "      <td>(Arden Pennell, 0)</td>\n",
       "      <td>(Stefano Bernardi, 0)</td>\n",
       "    </tr>\n",
       "    <tr>\n",
       "      <th>intermedicas worldwide</th>\n",
       "      <td>(Arden Pennell, 0)</td>\n",
       "      <td>(Arden Pennell, 0)</td>\n",
       "      <td>(Stefano Bernardi, 0)</td>\n",
       "    </tr>\n",
       "    <tr>\n",
       "      <th>...</th>\n",
       "      <td>...</td>\n",
       "      <td>...</td>\n",
       "      <td>...</td>\n",
       "    </tr>\n",
       "    <tr>\n",
       "      <th>machinefabriek rotterdam</th>\n",
       "      <td>(Arden Pennell, 0)</td>\n",
       "      <td>(Arden Pennell, 0)</td>\n",
       "      <td>(Stefano Bernardi, 0)</td>\n",
       "    </tr>\n",
       "    <tr>\n",
       "      <th>gazmar, s.l.</th>\n",
       "      <td>(Arden Pennell, 0)</td>\n",
       "      <td>(Arden Pennell, 0)</td>\n",
       "      <td>(Stefano Bernardi, 0)</td>\n",
       "    </tr>\n",
       "    <tr>\n",
       "      <th>power consulting group</th>\n",
       "      <td>(Arden Pennell, 0)</td>\n",
       "      <td>(Arden Pennell, 0)</td>\n",
       "      <td>(Stefano Bernardi, 0)</td>\n",
       "    </tr>\n",
       "    <tr>\n",
       "      <th>spalding tougias architects, inc.</th>\n",
       "      <td>(Arden Pennell, 0)</td>\n",
       "      <td>(Arden Pennell, 0)</td>\n",
       "      <td>(Stefano Bernardi, 0)</td>\n",
       "    </tr>\n",
       "    <tr>\n",
       "      <th>fundacion vision panama</th>\n",
       "      <td>(Arden Pennell, 0)</td>\n",
       "      <td>(Arden Pennell, 0)</td>\n",
       "      <td>(Stefano Bernardi, 0)</td>\n",
       "    </tr>\n",
       "  </tbody>\n",
       "</table>\n",
       "<p>750 rows × 3 columns</p>\n",
       "</div>"
      ],
      "text/plain": [
       "                                                    0                   1  \\\n",
       "blue point technologies            (Arden Pennell, 0)  (Arden Pennell, 0)   \n",
       "call a cab limited                 (Arden Pennell, 0)  (Arden Pennell, 0)   \n",
       "nationwide car hire uk ltd         (Arden Pennell, 0)  (Arden Pennell, 0)   \n",
       "european biomass association       (Arden Pennell, 0)  (Arden Pennell, 0)   \n",
       "intermedicas worldwide             (Arden Pennell, 0)  (Arden Pennell, 0)   \n",
       "...                                               ...                 ...   \n",
       "machinefabriek rotterdam           (Arden Pennell, 0)  (Arden Pennell, 0)   \n",
       "gazmar, s.l.                       (Arden Pennell, 0)  (Arden Pennell, 0)   \n",
       "power consulting group             (Arden Pennell, 0)  (Arden Pennell, 0)   \n",
       "spalding tougias architects, inc.  (Arden Pennell, 0)  (Arden Pennell, 0)   \n",
       "fundacion vision panama            (Arden Pennell, 0)  (Arden Pennell, 0)   \n",
       "\n",
       "                                                       2  \n",
       "blue point technologies            (Stefano Bernardi, 0)  \n",
       "call a cab limited                 (Stefano Bernardi, 0)  \n",
       "nationwide car hire uk ltd         (Stefano Bernardi, 0)  \n",
       "european biomass association       (Stefano Bernardi, 0)  \n",
       "intermedicas worldwide             (Stefano Bernardi, 0)  \n",
       "...                                                  ...  \n",
       "machinefabriek rotterdam           (Stefano Bernardi, 0)  \n",
       "gazmar, s.l.                       (Stefano Bernardi, 0)  \n",
       "power consulting group             (Stefano Bernardi, 0)  \n",
       "spalding tougias architects, inc.  (Stefano Bernardi, 0)  \n",
       "fundacion vision panama            (Stefano Bernardi, 0)  \n",
       "\n",
       "[750 rows x 3 columns]"
      ]
     },
     "execution_count": 61,
     "metadata": {},
     "output_type": "execute_result"
    }
   ],
   "source": [
    "recs_df"
   ]
  },
  {
   "cell_type": "code",
   "execution_count": null,
   "id": "dafeb479-27bb-4a73-b93e-c317fd991027",
   "metadata": {},
   "outputs": [],
   "source": []
  }
 ],
 "metadata": {
  "kernelspec": {
   "display_name": "Python 3 (ipykernel)",
   "language": "python",
   "name": "python3"
  },
  "language_info": {
   "codemirror_mode": {
    "name": "ipython",
    "version": 3
   },
   "file_extension": ".py",
   "mimetype": "text/x-python",
   "name": "python",
   "nbconvert_exporter": "python",
   "pygments_lexer": "ipython3",
   "version": "3.10.12"
  }
 },
 "nbformat": 4,
 "nbformat_minor": 5
}
